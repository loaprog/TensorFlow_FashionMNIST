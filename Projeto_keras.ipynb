{
  "nbformat": 4,
  "nbformat_minor": 0,
  "metadata": {
    "colab": {
      "provenance": []
    },
    "kernelspec": {
      "name": "python3",
      "display_name": "Python 3"
    }
  },
  "cells": [
    {
      "metadata": {
        "id": "sNc3NouWYrN7"
      },
      "cell_type": "markdown",
      "source": [
        "Imports"
      ]
    },
    {
      "metadata": {
        "id": "4bQCahYjYdUB"
      },
      "cell_type": "code",
      "source": [
        "import tensorflow\n",
        "from tensorflow import keras\n",
        "import matplotlib.pyplot as plt\n",
        "import numpy as np\n",
        "from tensorflow.keras.models import load_model"
      ],
      "execution_count": null,
      "outputs": []
    },
    {
      "metadata": {
        "id": "f8uuzUjVYvkf"
      },
      "cell_type": "markdown",
      "source": [
        "Carregando o dataset"
      ]
    },
    {
      "metadata": {
        "id": "QoIys3wMYirH",
        "colab": {
          "base_uri": "https://localhost:8080/"
        },
        "outputId": "d93dac3f-d5b0-474f-9afd-66d64b0b959d"
      },
      "cell_type": "code",
      "source": [
        "dataset = keras.datasets.fashion_mnist\n",
        "((imagens_treino, identificacoes_treino), (imagens_teste, identificacoes_teste)) = dataset.load_data()\n"
      ],
      "execution_count": null,
      "outputs": [
        {
          "output_type": "stream",
          "name": "stdout",
          "text": [
            "Downloading data from https://storage.googleapis.com/tensorflow/tf-keras-datasets/train-labels-idx1-ubyte.gz\n",
            "29515/29515 [==============================] - 0s 0us/step\n",
            "Downloading data from https://storage.googleapis.com/tensorflow/tf-keras-datasets/train-images-idx3-ubyte.gz\n",
            "26421880/26421880 [==============================] - 1s 0us/step\n",
            "Downloading data from https://storage.googleapis.com/tensorflow/tf-keras-datasets/t10k-labels-idx1-ubyte.gz\n",
            "5148/5148 [==============================] - 0s 0us/step\n",
            "Downloading data from https://storage.googleapis.com/tensorflow/tf-keras-datasets/t10k-images-idx3-ubyte.gz\n",
            "4422102/4422102 [==============================] - 1s 0us/step\n"
          ]
        }
      ]
    },
    {
      "metadata": {
        "id": "oFr0526ZY5E_"
      },
      "cell_type": "markdown",
      "source": [
        "Exploração dos dados"
      ]
    },
    {
      "metadata": {
        "id": "fPIT36hpYl5A",
        "colab": {
          "base_uri": "https://localhost:8080/"
        },
        "outputId": "ef3d0a31-546f-4c65-9b38-950625e09056"
      },
      "cell_type": "code",
      "source": [
        "len(imagens_treino)\n",
        "imagens_treino.shape\n",
        "imagens_teste.shape\n",
        "len(identificacoes_teste)\n",
        "identificacoes_treino.min()\n",
        "identificacoes_treino.max()"
      ],
      "execution_count": null,
      "outputs": [
        {
          "output_type": "execute_result",
          "data": {
            "text/plain": [
              "9"
            ]
          },
          "metadata": {},
          "execution_count": 3
        }
      ]
    },
    {
      "metadata": {
        "id": "yTWqT9DIY-iB"
      },
      "cell_type": "markdown",
      "source": [
        "Exibição dos dados"
      ]
    },
    {
      "metadata": {
        "id": "bGESm49JVahh",
        "colab": {
          "base_uri": "https://localhost:8080/",
          "height": 447
        },
        "outputId": "2a797c16-fe39-4310-a00d-b67666a50864"
      },
      "cell_type": "code",
      "source": [
        "total_de_classificacoes = 10\n",
        "nomes_de_classificacoes = ['Camiseta', 'Calça', 'Pullover',\n",
        "                           'Vestido', 'Casaco', 'Sandália', 'Camisa',\n",
        "                           'Tênis', 'Bolsa', 'Bota']\n",
        "\n",
        "plt.imshow(imagens_treino[0])\n",
        "plt.colorbar()"
      ],
      "execution_count": null,
      "outputs": [
        {
          "output_type": "execute_result",
          "data": {
            "text/plain": [
              "<matplotlib.colorbar.Colorbar at 0x7a911a43f5b0>"
            ]
          },
          "metadata": {},
          "execution_count": 4
        },
        {
          "output_type": "display_data",
          "data": {
            "text/plain": [
              "<Figure size 640x480 with 2 Axes>"
            ],
            "image/png": "[encoded data removed]"
          },
          "metadata": {}
        }
      ]
    },
    {
      "metadata": {
        "id": "uU6ZySpIcoc5"
      },
      "cell_type": "markdown",
      "source": [
        "Normalizando as imagens"
      ]
    },
    {
      "metadata": {
        "id": "Ral_hdl9ulGG"
      },
      "cell_type": "code",
      "source": [
        "imagens_treino = imagens_treino/float(255)"
      ],
      "execution_count": null,
      "outputs": []
    },
    {
      "metadata": {
        "id": "2WABnvOJdCNl"
      },
      "cell_type": "markdown",
      "source": [
        "Criando, compilando, treinando e normalizando o modelo"
      ]
    },
    {
      "metadata": {
        "id": "uFedwlfFc0ii",
        "colab": {
          "base_uri": "https://localhost:8080/"
        },
        "outputId": "d3f223a7-2069-4f99-fa0a-9be591056897"
      },
      "cell_type": "code",
      "source": [
        "modelo = keras.Sequential([\n",
        "    keras.layers.Flatten(input_shape=(28, 28)),\n",
        "    keras.layers.Dense(256, activation=tensorflow.nn.relu),\n",
        "    keras.layers.Dropout(0.2),\n",
        "    keras.layers.Dense(10, activation=tensorflow.nn.softmax)\n",
        "])\n",
        "\n",
        "modelo.compile(optimizer='adam',\n",
        "               loss='sparse_categorical_crossentropy',\n",
        "               metrics=['accuracy'])\n",
        "\n",
        "historico = modelo.fit(imagens_treino, identificacoes_treino, epochs=5, validation_split=0.2)"
      ],
      "execution_count": null,
      "outputs": [
        {
          "output_type": "stream",
          "name": "stdout",
          "text": [
            "Epoch 1/5\n",
            "1500/1500 [==============================] - 19s 12ms/step - loss: 0.5265 - accuracy: 0.8131 - val_loss: 0.4059 - val_accuracy: 0.8540\n",
            "Epoch 2/5\n",
            "1500/1500 [==============================] - 19s 13ms/step - loss: 0.3971 - accuracy: 0.8534 - val_loss: 0.3761 - val_accuracy: 0.8646\n",
            "Epoch 3/5\n",
            "1500/1500 [==============================] - 12s 8ms/step - loss: 0.3592 - accuracy: 0.8680 - val_loss: 0.3565 - val_accuracy: 0.8715\n",
            "Epoch 4/5\n",
            "1500/1500 [==============================] - 7s 5ms/step - loss: 0.3400 - accuracy: 0.8757 - val_loss: 0.3435 - val_accuracy: 0.8754\n",
            "Epoch 5/5\n",
            "1500/1500 [==============================] - 8s 5ms/step - loss: 0.3225 - accuracy: 0.8807 - val_loss: 0.3449 - val_accuracy: 0.8780\n"
          ]
        }
      ]
    },
    {
      "cell_type": "markdown",
      "source": [
        "Sumário do modelo"
      ],
      "metadata": {
        "id": "F7OVAz6-hFp4"
      }
    },
    {
      "cell_type": "code",
      "source": [
        "sumario_do_modelo = modelo.summary() # resumo do modelo\n",
        "# shape é os neuronios\n",
        "# param"
      ],
      "metadata": {
        "colab": {
          "base_uri": "https://localhost:8080/"
        },
        "id": "0lwvhBrWgTTi",
        "outputId": "bf12334f-4d5e-438c-e491-4125a2e82491"
      },
      "execution_count": null,
      "outputs": [
        {
          "output_type": "stream",
          "name": "stdout",
          "text": [
            "Model: \"sequential\"\n",
            "_________________________________________________________________\n",
            " Layer (type)                Output Shape              Param #   \n",
            "=================================================================\n",
            " flatten (Flatten)           (None, 784)               0         \n",
            "                                                                 \n",
            " dense (Dense)               (None, 256)               200960    \n",
            "                                                                 \n",
            " dropout (Dropout)           (None, 256)               0         \n",
            "                                                                 \n",
            " dense_1 (Dense)             (None, 10)                2570      \n",
            "                                                                 \n",
            "=================================================================\n",
            "Total params: 203530 (795.04 KB)\n",
            "Trainable params: 203530 (795.04 KB)\n",
            "Non-trainable params: 0 (0.00 Byte)\n",
            "_________________________________________________________________\n"
          ]
        }
      ]
    },
    {
      "cell_type": "markdown",
      "source": [
        "Pesos da primeira camada Dense"
      ],
      "metadata": {
        "id": "spBjve8-hCgS"
      }
    },
    {
      "cell_type": "code",
      "source": [
        "# layers 1 que está a relu\n",
        "pesos_camada_dense = modelo.layers[1].get_weights()[0]  # O indice 0 é peso\n",
        "pesos_camada_dense"
      ],
      "metadata": {
        "id": "wZ0CUXFvg1iH",
        "colab": {
          "base_uri": "https://localhost:8080/"
        },
        "outputId": "8f57933f-ce69-496b-8d69-5ca22a3fadd1"
      },
      "execution_count": null,
      "outputs": [
        {
          "output_type": "execute_result",
          "data": {
            "text/plain": [
              "array([[-0.0183803 ,  0.04428471, -0.00828834, ..., -0.042724  ,\n",
              "        -0.02423467,  0.0320338 ],\n",
              "       [ 0.00620427, -0.03681601,  0.10154293, ..., -0.15277654,\n",
              "         0.02990313, -0.08602713],\n",
              "       [-0.10408315, -0.09877252,  0.05814307, ..., -0.17954595,\n",
              "         0.01630278, -0.00665557],\n",
              "       ...,\n",
              "       [ 0.04799813,  0.14024037,  0.17907597, ...,  0.12112319,\n",
              "        -0.1555333 ,  0.03176869],\n",
              "       [ 0.03496617,  0.22040136, -0.05248668, ...,  0.17125091,\n",
              "        -0.24469042,  0.08383816],\n",
              "       [-0.01922606, -0.02082573, -0.13983722, ...,  0.10676289,\n",
              "        -0.16184743,  0.02583428]], dtype=float32)"
            ]
          },
          "metadata": {},
          "execution_count": 43
        }
      ]
    },
    {
      "cell_type": "code",
      "source": [
        "vieses_camada_dense = modelo.layers[1].get_weights()[1]  # Já o indice 1 é vies\n",
        "vieses_camada_dense"
      ],
      "metadata": {
        "colab": {
          "base_uri": "https://localhost:8080/"
        },
        "id": "1_m4HKWlgJie",
        "outputId": "d601bbbc-6246-471c-f7bf-a6ded23f7bb4"
      },
      "execution_count": null,
      "outputs": [
        {
          "output_type": "execute_result",
          "data": {
            "text/plain": [
              "array([ 0.23001143, -0.13345985,  0.24146785,  0.05455736,  0.33469442,\n",
              "        0.07340584,  0.32677504,  0.12692998, -0.12175679, -0.00596205,\n",
              "        0.14068204, -0.00496011, -0.03986838,  0.33312234,  0.20516399,\n",
              "        0.01589819,  0.10212081,  0.32688257, -0.02584258,  0.04437001,\n",
              "        0.10634553, -0.00091231, -0.03257511, -0.01189505,  0.16073152,\n",
              "        0.2865975 , -0.16138542,  0.10242789, -0.0324237 ,  0.08857159,\n",
              "       -0.02804509,  0.13756615,  0.19041319,  0.35751244, -0.4476287 ,\n",
              "       -0.05465605, -0.29653803, -0.01891401,  0.14755698,  0.2629585 ,\n",
              "        0.3549502 , -0.04007593,  0.38176107,  0.08922181,  0.00111577,\n",
              "        0.1738131 ,  0.06959354,  0.24305117, -0.16449444, -0.03834238,\n",
              "       -0.03008991,  0.28109398,  0.35738268,  0.03620624, -0.148031  ,\n",
              "        0.3146934 , -0.03226052,  0.04625665,  0.15281759,  0.32869318,\n",
              "        0.12881514, -0.08462764, -0.01678711,  0.03285253, -0.01338832,\n",
              "        0.01683603, -0.1576756 ,  0.4561404 , -0.00773217, -0.0454239 ,\n",
              "        0.3545357 ,  0.02237009, -0.06969485,  0.25145352,  0.37835026,\n",
              "        0.40186435, -0.01852472,  0.20483665,  0.42089406,  0.20056218,\n",
              "        0.20928319,  0.0227009 ,  0.06926131,  0.27240458,  0.05235432,\n",
              "        0.11236039, -0.1743313 , -0.01999275, -0.29207188, -0.01401071,\n",
              "        0.14827777,  0.046577  ,  0.10618693,  0.33253792, -0.01748861,\n",
              "       -0.06792235,  0.18960123,  0.22149421, -0.01379199,  0.05517102,\n",
              "        0.21214037,  0.08969547,  0.31281036, -0.19968744,  0.05101558,\n",
              "        0.01122102, -0.12444722, -0.01135651,  0.34633347,  0.01300724,\n",
              "        0.04885864, -0.00274844, -0.0708482 ,  0.20628873,  0.3439918 ,\n",
              "        0.11319321, -0.1144447 , -0.01340449, -0.08975936,  0.2119623 ,\n",
              "        0.2655608 ,  0.2378044 , -0.07538836,  0.07127957,  0.012065  ,\n",
              "        0.13062106,  0.0669347 ,  0.06771655, -0.18388979,  0.13920406,\n",
              "        0.03374628, -0.02048143,  0.27227265,  0.31876013,  0.16933765,\n",
              "        0.04055447,  0.34740648,  0.09912553,  0.20993832,  0.27806392,\n",
              "        0.03690142,  0.13375686, -0.00857897,  0.05330256,  0.10230325,\n",
              "        0.45814082, -0.12018997, -0.01086419,  0.08275747,  0.18659334,\n",
              "       -0.05282641,  0.21508965,  0.15801118, -0.00509872,  0.18566352,\n",
              "        0.17661119,  0.18990816,  0.03829464,  0.11633163, -0.0362263 ,\n",
              "        0.314021  ,  0.26991725,  0.10949149, -0.01636306, -0.0095105 ,\n",
              "       -0.08106128, -0.00857199,  0.04298566, -0.09883258, -0.06228627,\n",
              "       -0.00173684,  0.31545848,  0.30597737, -0.05029288,  0.07520949,\n",
              "       -0.26157686,  0.34115803,  0.30433258,  0.07405306, -0.01414775,\n",
              "       -0.02358245,  0.04773511,  0.15980095,  0.22824311,  0.03603179,\n",
              "        0.17349328,  0.31492624, -0.01103813,  0.10527489, -0.13176699,\n",
              "        0.264303  , -0.0437469 ,  0.30070964, -0.14200616,  0.15969707,\n",
              "       -0.00409231,  0.30631492, -0.22275713, -0.17185202,  0.07189111,\n",
              "       -0.08459234,  0.2908951 , -0.07601477,  0.09030727,  0.24446923,\n",
              "       -0.14099118, -0.2100515 ,  0.40359464,  0.2605846 ,  0.2001531 ,\n",
              "        0.06691199,  0.45908827, -0.16538411,  0.26614124, -0.01363455,\n",
              "       -0.0121931 ,  0.2928652 ,  0.44392088, -0.04941098,  0.15924793,\n",
              "        0.10163356,  0.13524698,  0.10940566, -0.03913754,  0.05371594,\n",
              "        0.19979489, -0.01613389, -0.01345594,  0.50236905, -0.0930519 ,\n",
              "       -0.01011554, -0.00405831, -0.01314838,  0.11104064,  0.24718842,\n",
              "        0.23434974, -0.18751776,  0.06693363,  0.10525698,  0.0949768 ,\n",
              "       -0.27173126,  0.23733275,  0.14450108, -0.01734897,  0.20987506,\n",
              "        0.33166367, -0.01119925, -0.01488077, -0.12773111,  0.0970035 ,\n",
              "       -0.01440054, -0.11670069, -0.10343523,  0.19073431,  0.06074879,\n",
              "        0.05259003], dtype=float32)"
            ]
          },
          "metadata": {},
          "execution_count": 47
        }
      ]
    },
    {
      "cell_type": "code",
      "source": [
        "historico.history"
      ],
      "metadata": {
        "colab": {
          "base_uri": "https://localhost:8080/"
        },
        "id": "oodJPb9ygTyh",
        "outputId": "361a93c6-794e-440d-e146-770d8bfe310b"
      },
      "execution_count": null,
      "outputs": [
        {
          "output_type": "execute_result",
          "data": {
            "text/plain": [
              "{'loss': [0.5264846086502075,\n",
              "  0.39706557989120483,\n",
              "  0.3591969907283783,\n",
              "  0.3400360941886902,\n",
              "  0.32246601581573486],\n",
              " 'accuracy': [0.8130833506584167,\n",
              "  0.8534166812896729,\n",
              "  0.8679791688919067,\n",
              "  0.8756666779518127,\n",
              "  0.8807083368301392],\n",
              " 'val_loss': [0.40585893392562866,\n",
              "  0.37608781456947327,\n",
              "  0.35652852058410645,\n",
              "  0.343514084815979,\n",
              "  0.3449447751045227],\n",
              " 'val_accuracy': [0.8539999723434448,\n",
              "  0.8645833134651184,\n",
              "  0.8715000152587891,\n",
              "  0.8754166960716248,\n",
              "  0.878000020980835]}"
            ]
          },
          "metadata": {},
          "execution_count": 8
        }
      ]
    },
    {
      "metadata": {
        "id": "4-RqzS88dgk_"
      },
      "cell_type": "markdown",
      "source": [
        "Salvando e carregando o modelo treinado"
      ]
    },
    {
      "metadata": {
        "id": "SVjmU41IELzX",
        "colab": {
          "base_uri": "https://localhost:8080/"
        },
        "outputId": "1aabd3c9-7ea3-40b3-c85f-cbfb4ac4dde2"
      },
      "cell_type": "code",
      "source": [
        "modelo.save('modelo.h5')\n",
        "modelo_salvo = load_model('modelo.h5')"
      ],
      "execution_count": null,
      "outputs": [
        {
          "output_type": "stream",
          "name": "stderr",
          "text": [
            "/usr/local/lib/python3.10/dist-packages/keras/src/engine/training.py:3079: UserWarning: You are saving your model as an HDF5 file via `model.save()`. This file format is considered legacy. We recommend using instead the native Keras format, e.g. `model.save('my_model.keras')`.\n",
            "  saving_api.save_model(\n"
          ]
        }
      ]
    },
    {
      "metadata": {
        "id": "SVxHO3opdnMb"
      },
      "cell_type": "markdown",
      "source": [
        "Visualizando as acurácias de treino e validação por época"
      ]
    },
    {
      "metadata": {
        "id": "pNc0JsWZY1Ie",
        "colab": {
          "base_uri": "https://localhost:8080/",
          "height": 490
        },
        "outputId": "d252e446-0980-4e29-dcdb-3cb3b8707e6e"
      },
      "cell_type": "code",
      "source": [
        "plt.plot(historico.history['accuracy'])\n",
        "plt.plot(historico.history['val_accuracy'])\n",
        "plt.title('Acurácia por épocas')\n",
        "plt.xlabel('épocas')\n",
        "plt.ylabel('acurácia')\n",
        "plt.legend(['treino', 'validação'])\n"
      ],
      "execution_count": null,
      "outputs": [
        {
          "output_type": "execute_result",
          "data": {
            "text/plain": [
              "<matplotlib.legend.Legend at 0x7a911a1c3340>"
            ]
          },
          "metadata": {},
          "execution_count": 10
        },
        {
          "output_type": "display_data",
          "data": {
            "text/plain": [
              "<Figure size 640x480 with 1 Axes>"
            ],
            "image/png": "[encoded data removed]"
          },
          "metadata": {}
        }
      ]
    },
    {
      "metadata": {
        "id": "ZKxkWNawdzZh"
      },
      "cell_type": "markdown",
      "source": [
        "Visualizando as perdas de treino e validação por época"
      ]
    },
    {
      "metadata": {
        "id": "2ugG3Vusg_Va",
        "colab": {
          "base_uri": "https://localhost:8080/",
          "height": 490
        },
        "outputId": "5675c490-ef34-4269-d80f-1e9591408500"
      },
      "cell_type": "code",
      "source": [
        "plt.plot(historico.history['loss'])\n",
        "plt.plot(historico.history['val_loss'])\n",
        "plt.title('Perda por épocas')\n",
        "plt.xlabel('épocas')\n",
        "plt.ylabel('perda')\n",
        "plt.legend(['treino', 'validação'])"
      ],
      "execution_count": null,
      "outputs": [
        {
          "output_type": "execute_result",
          "data": {
            "text/plain": [
              "<matplotlib.legend.Legend at 0x7a911a206e60>"
            ]
          },
          "metadata": {},
          "execution_count": 11
        },
        {
          "output_type": "display_data",
          "data": {
            "text/plain": [
              "<Figure size 640x480 with 1 Axes>"
            ],
            "image/png": "[encoded data removed]"
          },
          "metadata": {}
        }
      ]
    },
    {
      "metadata": {
        "id": "JFXG1oibd8E8"
      },
      "cell_type": "markdown",
      "source": [
        "Testando o modelo e o modelo salvo"
      ]
    },
    {
      "metadata": {
        "id": "I2kLEHPYUdhd",
        "colab": {
          "base_uri": "https://localhost:8080/"
        },
        "outputId": "43585513-d872-45ce-b987-3f99db0de123"
      },
      "cell_type": "code",
      "source": [
        "testes = modelo.predict(imagens_teste)\n",
        "print('resultado teste:', np.argmax(testes[1]))\n",
        "print('número da imagem de teste:', identificacoes_teste[1])\n",
        "\n",
        "testes_modelo_salvo = modelo_salvo.predict(imagens_teste)\n",
        "print('resultado teste modelo salvo:', np.argmax(testes_modelo_salvo[1]))\n",
        "print('número da imagem de teste:', identificacoes_teste[1])"
      ],
      "execution_count": null,
      "outputs": [
        {
          "output_type": "stream",
          "name": "stdout",
          "text": [
            "313/313 [==============================] - 1s 2ms/step\n",
            "resultado teste: 2\n",
            "número da imagem de teste: 2\n",
            "313/313 [==============================] - 1s 2ms/step\n",
            "resultado teste modelo salvo: 2\n",
            "número da imagem de teste: 2\n"
          ]
        }
      ]
    },
    {
      "metadata": {
        "id": "U64QMV1GeCUr"
      },
      "cell_type": "markdown",
      "source": [
        "Avaliando o modelo"
      ]
    },
    {
      "metadata": {
        "id": "wsbr9WqyXQ2G",
        "colab": {
          "base_uri": "https://localhost:8080/"
        },
        "outputId": "60f0da6b-643f-4b6a-a379-dcae53d2bb59"
      },
      "cell_type": "code",
      "source": [
        "perda_teste, acuracia_teste = modelo.evaluate(imagens_teste, identificacoes_teste)\n",
        "print('Perda do teste:', perda_teste)\n",
        "print('Acurácia do teste:', acuracia_teste)"
      ],
      "execution_count": null,
      "outputs": [
        {
          "output_type": "stream",
          "name": "stdout",
          "text": [
            "313/313 [==============================] - 1s 2ms/step - loss: 60.5026 - accuracy: 0.8509\n",
            "Perda do teste: 60.50261306762695\n",
            "Acurácia do teste: 0.8508999943733215\n"
          ]
        }
      ]
    }
  ]
}